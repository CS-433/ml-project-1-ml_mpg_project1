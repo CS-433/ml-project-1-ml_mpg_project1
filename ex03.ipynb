{
 "cells": [
  {
   "cell_type": "code",
   "execution_count": 37,
   "metadata": {
    "tags": []
   },
   "outputs": [
    {
     "name": "stdout",
     "output_type": "stream",
     "text": [
      "The autoreload extension is already loaded. To reload it, use:\n",
      "  %reload_ext autoreload\n"
     ]
    }
   ],
   "source": [
    "# Useful starting lines\n",
    "%matplotlib inline\n",
    "import numpy as np\n",
    "import matplotlib.pyplot as plt\n",
    " \n",
    "%load_ext autoreload\n",
    "%autoreload 2"
   ]
  },
  {
   "cell_type": "markdown",
   "metadata": {},
   "source": [
    "# 1 Least squares and linear basis functions models\n",
    "## 1.1 Least squares"
   ]
  },
  {
   "cell_type": "code",
   "execution_count": 38,
   "metadata": {},
   "outputs": [],
   "source": [
    "from helpers import *\n",
    "from helpers2 import * \n",
    "from costs import * \n",
    "from grid_search import * \n",
    "from gradient_descent import * \n"
   ]
  },
  {
   "cell_type": "code",
   "execution_count": 39,
   "metadata": {
    "tags": []
   },
   "outputs": [],
   "source": [
    "def least_squares(y, tx):\n",
    "    \"\"\"calculate the least squares solution.\"\"\"\n",
    "    # ***************************************************\n",
    "    # INSERT YOUR CODE HERE\n",
    "    # least squares: TODO\n",
    "    #Meglio non usare np.lin.inv perchè è computazionalmente costoso \n",
    "    w = np.linalg.solve(tx.T @ tx , tx.T @ y)\n",
    "    L = compute_loss(y,tx,w) \n",
    "    # returns mse, and optimal weights\n",
    "    return w,L\n",
    "    # ***************************************************\n",
    "    raise NotImplementedError"
   ]
  },
  {
   "cell_type": "markdown",
   "metadata": {},
   "source": [
    "### Load the data\n",
    "Here we will reuse the dataset `height_weight_genders.csv` from previous exercise section to check the correctness of your implementation. Please compare it with your previous result."
   ]
  },
  {
   "cell_type": "code",
   "execution_count": 40,
   "metadata": {},
   "outputs": [],
   "source": [
    "from helpers import *\n",
    "def test_your_least_squares():\n",
    "    height, weight, gender = load_data_from_ex02(sub_sample=False, add_outlier=False)\n",
    "    x, mean_x, std_x = standardize(height)\n",
    "    y, tx = build_model_data(x, weight)\n",
    "    # ***************************************************\n",
    "    # INSERT YOUR CODE HERE\n",
    "    # least square or grid search: TODO\n",
    "\n",
    "    # Define the parameters of the algorithm.\n",
    "    max_iters = 50\n",
    "    gamma = 0.1\n",
    "    # Initialization\n",
    "    w_initial = np.array([100, 10])\n",
    "    # Start gradient descent.\n",
    "    gradient_losses, gradient_ws = gradient_descent(y, tx, w_initial, max_iters, gamma)\n",
    "\n",
    "    # this code should compare the optimal weights obtained \n",
    "    w_least,L = least_squares(y,tx)\n",
    "    # by least squares vs. grid search\n",
    "    print('Least square solution:',w_least, '  Loss:', L)\n",
    "    print('Gradient descent solution:',gradient_ws[-1],'  Loss:',gradient_losses[-1])\n",
    "    # ***************************************************\n",
    "    #raise NotImplementedError"
   ]
  },
  {
   "cell_type": "markdown",
   "metadata": {},
   "source": [
    "Test it here"
   ]
  },
  {
   "cell_type": "code",
   "execution_count": 41,
   "metadata": {},
   "outputs": [
    {
     "name": "stdout",
     "output_type": "stream",
     "text": [
      "Gradient Descent(0/49): loss=378.0473881987589, w0=97.32939220021052, w1=10.347971243498908\n",
      "Gradient Descent(1/49): loss=309.1417031360723, w0=94.92584518039999, w1=10.661145362647924\n",
      "Gradient Descent(2/49): loss=253.32809823529618, w0=92.7626528625705, w1=10.943002069882038\n",
      "Gradient Descent(3/49): loss=208.11907826566738, w0=90.81577977652397, w1=11.19667310639274\n",
      "Gradient Descent(4/49): loss=171.49977209026807, w0=89.06359399908209, w1=11.424977039252374\n",
      "Gradient Descent(5/49): loss=141.8381340881947, w0=87.4866267993844, w1=11.630450578826043\n",
      "Gradient Descent(6/49): loss=117.81220730651526, w0=86.06735631965648, w1=11.815376764442345\n",
      "Gradient Descent(7/49): loss=98.35120661335505, w0=84.79001288790136, w1=11.981810331497016\n",
      "Gradient Descent(8/49): loss=82.58779605189518, w0=83.64040379932173, w1=12.13160054184622\n",
      "Gradient Descent(9/49): loss=69.81943349711263, w0=82.60575561960007, w1=12.266411731160504\n",
      "Gradient Descent(10/49): loss=59.47705982773877, w0=81.67457225785058, w1=12.38774180154336\n",
      "Gradient Descent(11/49): loss=51.09973715554599, w0=80.83650723227605, w1=12.49693886488793\n",
      "Gradient Descent(12/49): loss=44.31410579106985, w0=80.08224870925896, w1=12.595216221898044\n",
      "Gradient Descent(13/49): loss=38.817744385844165, w0=79.40341603854358, w1=12.683665843207145\n",
      "Gradient Descent(14/49): loss=34.36569164761134, w0=78.79246663489974, w1=12.763270502385335\n",
      "Gradient Descent(15/49): loss=30.75952892964276, w0=78.24261217162028, w1=12.834914695645708\n",
      "Gradient Descent(16/49): loss=27.838537128088195, w0=77.74774315466877, w1=12.899394469580042\n",
      "Gradient Descent(17/49): loss=25.472533768829013, w0=77.3023610394124, w1=12.957426266120942\n",
      "Gradient Descent(18/49): loss=23.556071047829054, w0=76.90151713568169, w1=13.009654883007753\n",
      "Gradient Descent(19/49): loss=22.00373624381914, w0=76.54075762232404, w1=13.056660638205884\n",
      "Gradient Descent(20/49): loss=20.74634505257109, w0=76.21607406030215, w1=13.098965817884201\n",
      "Gradient Descent(21/49): loss=19.727858187660157, w0=75.92385885448245, w1=13.137040479594686\n",
      "Gradient Descent(22/49): loss=18.9028838270823, w0=75.66086516924472, w1=13.171307675134123\n",
      "Gradient Descent(23/49): loss=18.234654595014234, w0=75.42417085253076, w1=13.202148151119616\n",
      "Gradient Descent(24/49): loss=17.69338891703912, w0=75.2111459674882, w1=13.22990457950656\n",
      "Gradient Descent(25/49): loss=17.254963717879274, w0=75.01942357094991, w1=13.25488536505481\n",
      "Gradient Descent(26/49): loss=16.899839306559805, w0=74.84687341406544, w1=13.277368072048233\n",
      "Gradient Descent(27/49): loss=16.612188533391034, w0=74.69157827286942, w1=13.297602508342315\n",
      "Gradient Descent(28/49): loss=16.379191407124328, w0=74.55181264579299, w1=13.31581350100699\n",
      "Gradient Descent(29/49): loss=16.19046373484829, w0=74.42602358142422, w1=13.332203394405195\n",
      "Gradient Descent(30/49): loss=16.037594320304706, w0=74.31281342349232, w1=13.34695429846358\n",
      "Gradient Descent(31/49): loss=15.913770094524397, w0=74.2109242813536, w1=13.360230112116126\n",
      "Gradient Descent(32/49): loss=15.813472471642344, w0=74.11922405342875, w1=13.372178344403418\n",
      "Gradient Descent(33/49): loss=15.732231397107881, w0=74.0366938482964, w1=13.38293175346198\n",
      "Gradient Descent(34/49): loss=15.666426126734965, w0=73.96241666367727, w1=13.392609821614688\n",
      "Gradient Descent(35/49): loss=15.61312385773291, w0=73.89556719752007, w1=13.401320082952124\n",
      "Gradient Descent(36/49): loss=15.569949019841244, w0=73.83540267797858, w1=13.409159318155815\n",
      "Gradient Descent(37/49): loss=15.534977401148995, w0=73.78125461039124, w1=13.41621462983914\n",
      "Gradient Descent(38/49): loss=15.506650390008273, w0=73.73252134956263, w1=13.42256441035413\n",
      "Gradient Descent(39/49): loss=15.483705510984286, w0=73.68866141481689, w1=13.428279212817623\n",
      "Gradient Descent(40/49): loss=15.465120158974859, w0=73.64918747354572, w1=13.433422535034765\n",
      "Gradient Descent(41/49): loss=15.450066023847222, w0=73.61366092640166, w1=13.438051525030193\n",
      "Gradient Descent(42/49): loss=15.437872174393835, w0=73.58168703397202, w1=13.44221761602608\n",
      "Gradient Descent(43/49): loss=15.427995156336594, w0=73.55291053078534, w1=13.445967097922376\n",
      "Gradient Descent(44/49): loss=15.419994771710225, w0=73.52701167791733, w1=13.449341631629043\n",
      "Gradient Descent(45/49): loss=15.413514460162869, w0=73.50370271033611, w1=13.452378711965043\n",
      "Gradient Descent(46/49): loss=15.40826540780951, w0=73.48272463951302, w1=13.455112084267444\n",
      "Gradient Descent(47/49): loss=15.40401367540329, w0=73.46384437577224, w1=13.457572119339606\n",
      "Gradient Descent(48/49): loss=15.400569772154254, w0=73.44685213840553, w1=13.45978615090455\n",
      "Gradient Descent(49/49): loss=15.397780210522532, w0=73.4315591247755, w1=13.461778779313\n",
      "Least square solution: [73.293922   13.47971243]   Loss: 15.385887868829402\n",
      "Gradient descent solution: [73.43155912 13.46177878]   Loss: 15.397780210522532\n"
     ]
    }
   ],
   "source": [
    "test_your_least_squares()"
   ]
  },
  {
   "cell_type": "markdown",
   "metadata": {},
   "source": [
    "## 1.2 Least squares with a linear basis function model\n",
    "Start from this section, we will use the dataset `dataEx3.csv`.\n",
    "\n",
    "### Implement polynomial basis functions"
   ]
  },
  {
   "cell_type": "code",
   "execution_count": 42,
   "metadata": {
    "scrolled": true
   },
   "outputs": [
    {
     "name": "stdout",
     "output_type": "stream",
     "text": [
      "shape of x (50,)\n",
      "shape of y (50,)\n"
     ]
    }
   ],
   "source": [
    "# load dataset\n",
    "x, y = load_data()\n",
    "print(\"shape of x {}\".format(x.shape))\n",
    "print(\"shape of y {}\".format(y.shape))"
   ]
  },
  {
   "cell_type": "code",
   "execution_count": 43,
   "metadata": {
    "tags": []
   },
   "outputs": [],
   "source": [
    "def build_poly(x, degree):\n",
    "    \"\"\"polynomial basis functions for input data x, for j=0 up to j=degree.\"\"\"\n",
    "    # ***************************************************\n",
    "    # INSERT YOUR CODE HERE\n",
    "    # polynomial basis function: TODO\n",
    "    # this function should return the matrix formed\n",
    "    # by applying the polynomial basis to the input data\n",
    "    matrix = np.zeros([len(x),degree + 1])\n",
    "    for j in range(degree + 1):\n",
    "        matrix[:,j] = x**j\n",
    "    \n",
    "    return matrix \n",
    "    # ***************************************************\n",
    "    "
   ]
  },
  {
   "cell_type": "markdown",
   "metadata": {},
   "source": [
    "Let us play with polynomial regression. Note that we will use your implemented function `compute_mse`. Please copy and paste your implementation from exercise02."
   ]
  },
  {
   "cell_type": "code",
   "execution_count": 44,
   "metadata": {
    "tags": []
   },
   "outputs": [],
   "source": [
    "from plots import *\n",
    "\n",
    "def polynomial_regression():\n",
    "    \"\"\"Constructing the polynomial basis function expansion of the data,\n",
    "       and then running least squares regression.\"\"\"\n",
    "    # define parameters\n",
    "    degrees = [1, 3, 7, 12]\n",
    "    \n",
    "    # define the structure of the figure\n",
    "    num_row = 2\n",
    "    num_col = 2\n",
    "    f, axs = plt.subplots(num_row, num_col)\n",
    "\n",
    "    for ind, degree in enumerate(degrees):\n",
    "        # ***************************************************\n",
    "        # INSERT YOUR CODE HERE\n",
    "        # form the data to do polynomial regression.: TODO\n",
    "        tx = build_poly(x,degree)\n",
    "        # ***************************************************\n",
    "        #raise NotImplementedError\n",
    "        # ***************************************************\n",
    "        # INSERT YOUR CODE HERE\n",
    "        # least square and calculate RMSE: TODO\n",
    "        weights,loss = least_squares(y,tx)\n",
    "        rmse = np.sqrt(2*loss)\n",
    "        \n",
    "        # ***************************************************\n",
    "        #raise NotImplementedError\n",
    "\n",
    "        print(\"Processing {i}th experiment, degree={d}, rmse={loss}\".format(\n",
    "              i=ind + 1, d=degree, loss=rmse))\n",
    "        # plot fit\n",
    "        plot_fitted_curve(\n",
    "            y, x, weights, degree, axs[ind // num_col][ind % num_col])\n",
    "    plt.tight_layout()\n",
    "    plt.savefig(\"visualize_polynomial_regression\")\n",
    "    plt.show()"
   ]
  },
  {
   "cell_type": "markdown",
   "metadata": {},
   "source": [
    "Run polynomial regression"
   ]
  },
  {
   "cell_type": "code",
   "execution_count": 45,
   "metadata": {},
   "outputs": [
    {
     "name": "stdout",
     "output_type": "stream",
     "text": [
      "Processing 1th experiment, degree=1, rmse=0.47187607963421874\n",
      "Processing 2th experiment, degree=3, rmse=0.2585827766773747\n",
      "Processing 3th experiment, degree=7, rmse=0.2496587036090721\n",
      "Processing 4th experiment, degree=12, rmse=0.245613674340116\n"
     ]
    },
    {
     "data": {
      "image/png": "[encoded data removed]",
      "text/plain": [
       "<Figure size 432x288 with 4 Axes>"
      ]
     },
     "metadata": {
      "needs_background": "light"
     },
     "output_type": "display_data"
    }
   ],
   "source": [
    "polynomial_regression()"
   ]
  },
  {
   "cell_type": "markdown",
   "metadata": {},
   "source": [
    "# 2 Evaluating model predication performance\n",
    "\n",
    "\n",
    "Let us show the train and test splits for various polynomial degrees. First of all, please fill in the function `split_data()`"
   ]
  },
  {
   "cell_type": "code",
   "execution_count": 64,
   "metadata": {
    "tags": []
   },
   "outputs": [],
   "source": [
    "def split_data(x, y, ratio, seed=1):\n",
    "    \"\"\"\n",
    "    split the dataset based on the split ratio. If ratio is 0.8 \n",
    "    you will have 80% of your data set dedicated to training \n",
    "    and the rest dedicated to testing\n",
    "    \"\"\"\n",
    "    # set seed\n",
    "    np.random.seed(seed)\n",
    "    # ***************************************************\n",
    "    # INSERT YOUR CODE HERE\n",
    "    # split the data based on the given ratio: TODO\n",
    "    \n",
    "    N = y.shape[0]\n",
    "    N_tr = ratio * N\n",
    "    indices = np.random.permutation(N)\n",
    "    index_split = int(np.round(N_tr))\n",
    "    index_tr = indices[:index_split]\n",
    "    index_te = indices[index_split:]\n",
    "    x_train = x[index_tr]\n",
    "    x_test = x[index_te]\n",
    "    y_train = y[index_tr]\n",
    "    y_test = y[index_te]\n",
    "    #Mia vecchia implementazione \n",
    "    '''N = len(x)\n",
    "    index = int(np.round(N*ratio))\n",
    "    x_train = x[:index]\n",
    "    y_train = y[:index]\n",
    "    x_test = x[index:]\n",
    "    y_test = y[index:]'''\n",
    "  \n",
    "    \n",
    "    return x_train,y_train,x_test,y_test\n",
    "    \n",
    "    \n",
    "    # ***************************************************\n",
    "    #raise NotImplementedError"
   ]
  },
  {
   "cell_type": "markdown",
   "metadata": {},
   "source": [
    "Then, test your `split_data` function below."
   ]
  },
  {
   "cell_type": "code",
   "execution_count": 65,
   "metadata": {
    "tags": []
   },
   "outputs": [],
   "source": [
    "def train_test_split_demo(x, y, degree, ratio, seed):\n",
    "    \"\"\"polynomial regression with different split ratios and different degrees.\"\"\"\n",
    "    # ***************************************************\n",
    "    # INSERT YOUR CODE HERE\n",
    "    # split the data, and return train and test data: TODO   \n",
    "    x_train,y_train,x_test,y_test = split_data(x,y,ratio,seed)\n",
    "    \n",
    "    #Se vuoi verificare che lo splitting è fatto bene, stampare qui sotto le dimensioni \n",
    "    #print('Dimensione of x:',len(x),'  Dimension of x_train:',len(x_train))\n",
    "    # ***************************************************\n",
    "    #raise NotImplementedError\n",
    "    \n",
    "    # ***************************************************\n",
    "    # INSERT YOUR CODE HERE\n",
    "    # form train and test data with polynomial basis function: TODO\n",
    "    tx_train = build_poly(x_train,degree)\n",
    "    tx_test = build_poly(x_test,degree)\n",
    "    # ***************************************************\n",
    "    #raise NotImplementedError\n",
    "    # ***************************************************\n",
    "    # INSERT YOUR CODE HERE\n",
    "    # calculate weight through least square: TODO\n",
    "    w,L = least_squares(y_train,tx_train)\n",
    "    L_test = compute_loss(y_test,tx_test,w)\n",
    "    # ***************************************************\n",
    "    #raise NotImplementedError\n",
    "    # ***************************************************\n",
    "    # INSERT YOUR CODE HERE\n",
    "    # calculate RMSE for train and test data,\n",
    "    # and store them in rmse_tr and rmse_te respectively: TODO\n",
    "    rmse_tr = np.sqrt(2*L)\n",
    "    rmse_te = np.sqrt(2*L_test)\n",
    "    # ***************************************************\n",
    "    #raise NotImplementedError\n",
    "    print(\"proportion={p}, degree={d}, Training RMSE={tr:.3f}, Testing RMSE={te:.3f}\".format(\n",
    "          p=ratio, d=degree, tr=rmse_tr, te=rmse_te))\n"
   ]
  },
  {
   "cell_type": "code",
   "execution_count": 66,
   "metadata": {
    "tags": []
   },
   "outputs": [
    {
     "name": "stdout",
     "output_type": "stream",
     "text": [
      "proportion=0.9, degree=1, Training RMSE=0.494, Testing RMSE=0.181\n",
      "proportion=0.9, degree=3, Training RMSE=0.264, Testing RMSE=0.206\n",
      "proportion=0.9, degree=7, Training RMSE=0.254, Testing RMSE=0.220\n",
      "proportion=0.9, degree=12, Training RMSE=0.243, Testing RMSE=0.255\n",
      "proportion=0.5, degree=1, Training RMSE=0.455, Testing RMSE=0.531\n",
      "proportion=0.5, degree=3, Training RMSE=0.239, Testing RMSE=0.296\n",
      "proportion=0.5, degree=7, Training RMSE=0.232, Testing RMSE=0.284\n",
      "proportion=0.5, degree=12, Training RMSE=0.205, Testing RMSE=1.167\n",
      "proportion=0.1, degree=1, Training RMSE=0.428, Testing RMSE=0.534\n",
      "proportion=0.1, degree=3, Training RMSE=0.085, Testing RMSE=0.460\n",
      "proportion=0.1, degree=7, Training RMSE=0.000, Testing RMSE=2.075\n",
      "proportion=0.1, degree=12, Training RMSE=0.000, Testing RMSE=3.227\n"
     ]
    }
   ],
   "source": [
    "seed = 6\n",
    "degrees = [1, 3, 7, 12]\n",
    "split_ratios = [0.9, 0.5, 0.1]\n",
    "\n",
    "for split_ratio in split_ratios:\n",
    "    for degree in degrees:\n",
    "        train_test_split_demo(x, y, degree, split_ratio, seed)"
   ]
  },
  {
   "cell_type": "markdown",
   "metadata": {
    "tags": []
   },
   "source": [
    "# 3 Ridge Regression\n",
    "Please fill in the function below."
   ]
  },
  {
   "cell_type": "code",
   "execution_count": 67,
   "metadata": {
    "tags": []
   },
   "outputs": [],
   "source": [
    "def ridge_regression(y, tx, lambda_):\n",
    "    \"\"\"implement ridge regression.\"\"\"\n",
    "    # ***************************************************\n",
    "    # INSERT YOUR CODE HERE\n",
    "    # ridge regression: TODO\n",
    "    N = len(y)\n",
    "    w = np.linalg.solve(tx.T @ tx + 2*N*lambda_*np.identity(tx.shape[1]) , tx.T @ y) \n",
    "    return w\n",
    "    # ***************************************************\n",
    "    #raise NotImplementedError"
   ]
  },
  {
   "cell_type": "code",
   "execution_count": 68,
   "metadata": {
    "tags": []
   },
   "outputs": [],
   "source": [
    "def ridge_regression_demo(x, y, degree, ratio, seed):\n",
    "    \"\"\"ridge regression demo.\"\"\"\n",
    "    # define parameter\n",
    "    lambdas = np.logspace(-5, 0, 15)\n",
    "    # ***************************************************\n",
    "    # INSERT YOUR CODE HERE\n",
    "    # split the data, and return train and test data: TODO\n",
    "    x_train,y_train,x_test,y_test = split_data(x,y,ratio,seed)\n",
    "    # ***************************************************\n",
    "    #raise NotImplementedError\n",
    "    # ***************************************************\n",
    "    # INSERT YOUR CODE HERE\n",
    "    # form train and test data with polynomial basis function: TODO\n",
    "    tx_train = build_poly(x_train,degree)\n",
    "    tx_test = build_poly(x_test,degree)\n",
    "    # ***************************************************\n",
    "    #raise NotImplementedError\n",
    "\n",
    "    rmse_tr = []\n",
    "    rmse_te = []\n",
    "    for ind, lambda_ in enumerate(lambdas):\n",
    "        # ***************************************************\n",
    "        # INSERT YOUR CODE HERE\n",
    "        # ridge regression with a given lambda\n",
    "        w = ridge_regression(y_train,tx_train,lambda_)\n",
    "        L_train = compute_loss(y_train,tx_train,w)\n",
    "        L_test = compute_loss(y_test,tx_test,w)\n",
    "        rmse_tr = np.append(rmse_tr , [np.sqrt(2*L_train)])\n",
    "        rmse_te = np.append(rmse_te, [np.sqrt(2*L_test)])\n",
    "        # ***************************************************\n",
    "        print(\"proportion={p}, degree={d}, lambda={l:.3f}, Training RMSE={tr:.3f}, Testing RMSE={te:.3f}\".format(\n",
    "               p=ratio, d=degree, l=lambda_, tr=rmse_tr[ind], te=rmse_te[ind]))\n",
    "        \n",
    "    # Plot the obtained results\n",
    "    plot_train_test(rmse_tr, rmse_te, lambdas, degree)\n",
    "\n",
    "    #raise NotImplementedError\n"
   ]
  },
  {
   "cell_type": "code",
   "execution_count": 69,
   "metadata": {
    "tags": []
   },
   "outputs": [
    {
     "name": "stdout",
     "output_type": "stream",
     "text": [
      "proportion=0.5, degree=7, lambda=0.000, Training RMSE=0.227, Testing RMSE=0.338\n",
      "proportion=0.5, degree=7, lambda=0.000, Training RMSE=0.227, Testing RMSE=0.337\n",
      "proportion=0.5, degree=7, lambda=0.000, Training RMSE=0.227, Testing RMSE=0.336\n",
      "proportion=0.5, degree=7, lambda=0.000, Training RMSE=0.227, Testing RMSE=0.335\n",
      "proportion=0.5, degree=7, lambda=0.000, Training RMSE=0.228, Testing RMSE=0.334\n",
      "proportion=0.5, degree=7, lambda=0.001, Training RMSE=0.228, Testing RMSE=0.333\n",
      "proportion=0.5, degree=7, lambda=0.001, Training RMSE=0.229, Testing RMSE=0.329\n",
      "proportion=0.5, degree=7, lambda=0.003, Training RMSE=0.230, Testing RMSE=0.319\n",
      "proportion=0.5, degree=7, lambda=0.007, Training RMSE=0.232, Testing RMSE=0.302\n",
      "proportion=0.5, degree=7, lambda=0.016, Training RMSE=0.237, Testing RMSE=0.283\n",
      "proportion=0.5, degree=7, lambda=0.037, Training RMSE=0.246, Testing RMSE=0.276\n",
      "proportion=0.5, degree=7, lambda=0.085, Training RMSE=0.264, Testing RMSE=0.298\n",
      "proportion=0.5, degree=7, lambda=0.193, Training RMSE=0.291, Testing RMSE=0.348\n",
      "proportion=0.5, degree=7, lambda=0.439, Training RMSE=0.317, Testing RMSE=0.401\n",
      "proportion=0.5, degree=7, lambda=1.000, Training RMSE=0.336, Testing RMSE=0.441\n"
     ]
    },
    {
     "data": {
      "image/png": "[encoded data removed]",
      "text/plain": [
       "<Figure size 432x288 with 1 Axes>"
      ]
     },
     "metadata": {
      "needs_background": "light"
     },
     "output_type": "display_data"
    }
   ],
   "source": [
    "seed = 56\n",
    "degree = 7\n",
    "split_ratio = 0.5\n",
    "ridge_regression_demo(x, y, degree, split_ratio, seed)"
   ]
  },
  {
   "cell_type": "code",
   "execution_count": 70,
   "metadata": {},
   "outputs": [],
   "source": [
    "# 3 Theory Exercises\n"
   ]
  },
  {
   "cell_type": "code",
   "execution_count": 33,
   "metadata": {},
   "outputs": [],
   "source": [
    "def compute_loss_relative(y, tx, w,eps):\n",
    "    N = len(y)\n",
    "    L = 0\n",
    "    for i in range(N):\n",
    "        L = L + ((y[i] - tx[i].T @ w )**2)/(y[i]**2 + eps)\n",
    "    \n",
    "    return L "
   ]
  },
  {
   "cell_type": "code",
   "execution_count": null,
   "metadata": {},
   "outputs": [],
   "source": [
    "#non completato perchè non avevo tempo e mi seccavo, ma leggere le domande a cui ho risposto sul quaderno "
   ]
  }
 ],
 "metadata": {
  "anaconda-cloud": {},
  "kernelspec": {
   "display_name": "Python",
   "language": "python",
   "name": "python3"
  },
  "language_info": {
   "codemirror_mode": {
    "name": "ipython",
    "version": 3
   },
   "file_extension": ".py",
   "mimetype": "text/x-python",
   "name": "python",
   "nbconvert_exporter": "python",
   "pygments_lexer": "ipython3",
   "version": "3.8.10"
  }
 },
 "nbformat": 4,
 "nbformat_minor": 4
}
